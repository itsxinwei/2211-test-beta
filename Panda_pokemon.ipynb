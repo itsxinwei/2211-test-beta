{
 "metadata": {
  "language_info": {
   "codemirror_mode": {
    "name": "ipython",
    "version": 3
   },
   "file_extension": ".py",
   "mimetype": "text/x-python",
   "name": "python",
   "nbconvert_exporter": "python",
   "pygments_lexer": "ipython3",
   "version": "3.8.2-final"
  },
  "orig_nbformat": 2,
  "kernelspec": {
   "name": "python3",
   "display_name": "Python 3",
   "language": "python"
  }
 },
 "nbformat": 4,
 "nbformat_minor": 2,
 "cells": [
  {
   "cell_type": "code",
   "execution_count": 4,
   "metadata": {},
   "outputs": [
    {
     "output_type": "stream",
     "name": "stdout",
     "text": [
      "       #                 Name   Type 1 Type 2  HP  Attack  Defense  Sp. Atk  \\\n797  720  HoopaHoopa Confined  Psychic  Ghost  80     110       60      150   \n798  720   HoopaHoopa Unbound  Psychic   Dark  80     160       60      170   \n799  721            Volcanion     Fire  Water  80     110      120      130   \n\n     Sp. Def  Speed  Generation  Legendary  \n797      130     70           6       True  \n798      130     80           6       True  \n799       90     70           6       True  \n"
     ]
    }
   ],
   "source": [
    "import pandas as pd \n",
    "\n",
    "df = pd.read_csv('pokemon_data.csv')\n",
    "\n",
    "print(df.tail(3))"
   ]
  },
  {
   "cell_type": "code",
   "execution_count": 12,
   "metadata": {},
   "outputs": [
    {
     "output_type": "stream",
     "name": "stdout",
     "text": [
      "       #                 Name   Type 1 Type 2  HP  Attack  Defense  Sp. Atk  \\\n797  720  HoopaHoopa Confined  Psychic  Ghost  80     110       60      150   \n798  720   HoopaHoopa Unbound  Psychic   Dark  80     160       60      170   \n799  721            Volcanion     Fire  Water  80     110      120      130   \n\n     Sp. Def  Speed  Generation  Legendary  \n797      130     70           6       True  \n798      130     80           6       True  \n799       90     70           6       True  \n       #                 Name   Type 1 Type 2  HP  Attack  Defense  Sp. Atk  \\\n797  720  HoopaHoopa Confined  Psychic  Ghost  80     110       60      150   \n798  720   HoopaHoopa Unbound  Psychic   Dark  80     160       60      170   \n799  721            Volcanion     Fire  Water  80     110      120      130   \n\n     Sp. Def  Speed  Generation  Legendary  \n797      130     70           6       True  \n798      130     80           6       True  \n799       90     70           6       True  \n"
     ]
    }
   ],
   "source": [
    "df1 = pd.read_excel('pokemon_data.xlsx')\n",
    "df2 = pd.read_csv('pokemon_data.txt', delimiter='\\t')\n",
    "\n",
    "print(df1.tail(3))\n",
    "print(df2.tail(3))"
   ]
  },
  {
   "cell_type": "code",
   "execution_count": null,
   "metadata": {},
   "outputs": [],
   "source": []
  }
 ]
}